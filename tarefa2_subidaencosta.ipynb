{
 "cells": [
  {
   "cell_type": "markdown",
   "metadata": {},
   "source": [
    "# Implementação da Busca de Subida de Encosta Determinística\n",
    "\n",
    "## Implementação do Ambiente\n",
    "Primeiramente, implementei as regras do ambiente na classe EightQueen."
   ]
  },
  {
   "cell_type": "code",
   "execution_count": 1,
   "metadata": {},
   "outputs": [],
   "source": [
    "import random\n",
    "class EightQueen():\n",
    "    def __init__(self, n):\n",
    "        self.board = [[0 for _ in range(n)] for _ in range(n)]\n",
    "        for i in range(n):\n",
    "            self.board[i][random.randint(0, n-1)] = 1\n",
    "        self.n = n\n",
    "\n",
    "    def deepcopy(self):\n",
    "        nt = EightQueen(self.n)\n",
    "        for i in range(self.n):\n",
    "            for j in range(self.n):\n",
    "                nt.board[i][j] = self.board[i][j]\n",
    "        return nt\n",
    "\n",
    "    def move(self, c, p):\n",
    "        for i in range(self.n):\n",
    "            self.board[c][i] = 0            \n",
    "        self.board[c][p] = 1\n",
    "        \n",
    "    def find_row(self, c):\n",
    "        row = -1\n",
    "        for j in range(self.n): #verifica a linha da rainha na coluna i\n",
    "            if self.board[c][j] == 1:\n",
    "                row = j\n",
    "                break\n",
    "        return row\n",
    "    \n",
    "    def check_collisions(self):\n",
    "        collisions = 0\n",
    "        for i in range(self.n):\n",
    "            rowi = self.find_row(i)\n",
    "            for k in range(self.n): #verifica colunas que colidem com a ccolun i\n",
    "                if k != i:\n",
    "                    self.board[k]\n",
    "                    rowk = self.find_row(k)\n",
    "                    if rowk == rowi:\n",
    "                        collisions += 1\n",
    "                    elif abs(rowk - rowi) == abs(i - k):\n",
    "                        collisions += 1\n",
    "        return collisions\n",
    "    \n",
    "    def neighborhood(self):\n",
    "        #Para cada coluna c\n",
    "            #movimento a rainha para uma posição ainda não oculpada nesta coluna.\n",
    "        neigh = []\n",
    "        for i in range(self.n):\n",
    "            rowi = self.find_row(i)\n",
    "            for j in range(self.n):\n",
    "                if j != rowi:\n",
    "                    nn = self.deepcopy()\n",
    "                    nn.move(i, j)\n",
    "                    neigh.append(nn)\n",
    "        return neigh\n",
    "\n",
    "    def render(self):\n",
    "        for i in range(self.n):\n",
    "            for j in range(self.n):\n",
    "                print(self.board[j][i], end=\" \")\n",
    "            print()"
   ]
  },
  {
   "cell_type": "code",
   "execution_count": 191,
   "metadata": {},
   "outputs": [
    {
     "name": "stdout",
     "output_type": "stream",
     "text": [
      "0 0 1 0 0 0 0 0 \n",
      "0 0 0 0 1 1 0 0 \n",
      "1 0 0 0 0 0 0 0 \n",
      "0 0 0 1 0 0 0 0 \n",
      "0 1 0 0 0 0 0 0 \n",
      "0 0 0 0 0 0 0 1 \n",
      "0 0 0 0 0 0 0 0 \n",
      "0 0 0 0 0 0 1 0 \n",
      "----------------------------------------------------------\n",
      "0 0 1 0 0 0 0 0 \n",
      "0 0 0 0 1 1 0 0 \n",
      "1 0 0 0 0 0 0 0 \n",
      "0 0 0 1 0 0 0 0 \n",
      "0 1 0 0 0 0 0 0 \n",
      "0 0 0 0 0 0 0 0 \n",
      "0 0 0 0 0 0 0 0 \n",
      "0 0 0 0 0 0 1 1 \n"
     ]
    }
   ],
   "source": [
    "eq = EightQueen(8)\n",
    "eq.render()\n",
    "eq.move(7, 7)\n",
    "print(\"----------------------------------------------------------\")\n",
    "eq.render()\n"
   ]
  },
  {
   "cell_type": "markdown",
   "metadata": {},
   "source": [
    "## Implementação do Algoritimo"
   ]
  },
  {
   "cell_type": "code",
   "execution_count": 3,
   "metadata": {},
   "outputs": [],
   "source": [
    "def hillclibimg(s):\n",
    "    while True:\n",
    "        h = s.check_collisions()\n",
    "        neigh = s.neighborhood()\n",
    "        found = False\n",
    "        for n in neigh:\n",
    "            hn = n.check_collisions()\n",
    "            if hn < h:\n",
    "                s = n\n",
    "                h = hn\n",
    "                found = True\n",
    "        if not found:\n",
    "            break\n",
    "    return s, h"
   ]
  },
  {
   "cell_type": "code",
   "execution_count": 7,
   "metadata": {},
   "outputs": [
    {
     "name": "stdout",
     "output_type": "stream",
     "text": [
      "12\n",
      "0 0 1 0 0 0 0 0 \n",
      "0 0 0 0 0 1 0 0 \n",
      "0 0 0 0 0 0 0 1 \n",
      "1 0 0 0 0 0 0 0 \n",
      "0 0 0 0 1 0 0 0 \n",
      "0 0 0 0 0 0 1 0 \n",
      "0 1 0 0 0 0 0 0 \n",
      "0 0 0 1 0 0 0 0 \n",
      "-----------\n",
      "0\n"
     ]
    }
   ],
   "source": [
    "q = EightQueen(8)\n",
    "h = q.check_collisions()\n",
    "counter = 0\n",
    "print(q.check_collisions())\n",
    "while True:\n",
    "    q, h = hillclibimg(q)\n",
    "    counter += 1\n",
    "    if h > 0 and counter < 1000:\n",
    "        q = EightQueen(8)\n",
    "        h = q.check_collisions()\n",
    "    else:\n",
    "        break\n",
    "q.render()\n",
    "print('-----------')\n",
    "print(h)"
   ]
  },
  {
   "cell_type": "code",
   "execution_count": null,
   "metadata": {},
   "outputs": [],
   "source": []
  }
 ],
 "metadata": {
  "kernelspec": {
   "display_name": "Python 3",
   "language": "python",
   "name": "python3"
  },
  "language_info": {
   "codemirror_mode": {
    "name": "ipython",
    "version": 3
   },
   "file_extension": ".py",
   "mimetype": "text/x-python",
   "name": "python",
   "nbconvert_exporter": "python",
   "pygments_lexer": "ipython3",
   "version": "3.12.1"
  }
 },
 "nbformat": 4,
 "nbformat_minor": 2
}
