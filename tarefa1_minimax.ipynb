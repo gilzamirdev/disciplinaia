{
 "cells": [
  {
   "cell_type": "markdown",
   "metadata": {},
   "source": [
    "# Implementação do Algorítmo Minimax"
   ]
  },
  {
   "cell_type": "code",
   "execution_count": 2,
   "metadata": {},
   "outputs": [
    {
     "ename": "SyntaxError",
     "evalue": "f-string: valid expression required before '}' (3249813592.py, line 16)",
     "output_type": "error",
     "traceback": [
      "\u001b[0;36m  Cell \u001b[0;32mIn[2], line 16\u001b[0;36m\u001b[0m\n\u001b[0;31m    return f\"{}\"\u001b[0m\n\u001b[0m              ^\u001b[0m\n\u001b[0;31mSyntaxError\u001b[0m\u001b[0;31m:\u001b[0m f-string: valid expression required before '}'\n"
     ]
    }
   ],
   "source": [
    "class JogoDaVelha():\n",
    "    def __init__(self, n):\n",
    "        self.matriz = [ [0, 0, 0], [0, 0, 0], [0, 0, 0] ]\n",
    "        self.jogador_atual = 1\n",
    "\n",
    "    def jogada(self, pos):\n",
    "        if self.matriz[pos[0]][pos[1]] == 0:\n",
    "            self.matriz[pos[0]][pos[1]] = self.jogador_atual\n",
    "            self.jogador_atual = self.jogador_atual * (-1)\n",
    "\n",
    "    def verificar(self):\n",
    "        pass\n",
    "\n",
    "\n",
    "    def __str__(self):\n",
    "        return \"\"\n"
   ]
  }
 ],
 "metadata": {
  "kernelspec": {
   "display_name": "Python 3",
   "language": "python",
   "name": "python3"
  },
  "language_info": {
   "codemirror_mode": {
    "name": "ipython",
    "version": 3
   },
   "file_extension": ".py",
   "mimetype": "text/x-python",
   "name": "python",
   "nbconvert_exporter": "python",
   "pygments_lexer": "ipython3",
   "version": "3.12.1"
  }
 },
 "nbformat": 4,
 "nbformat_minor": 2
}
